{
 "cells": [
  {
   "cell_type": "markdown",
   "id": "5d39a635",
   "metadata": {},
   "source": [
    "## 1.\tWrite a Python Program to Find the Factorial of a Number?"
   ]
  },
  {
   "cell_type": "code",
   "execution_count": 2,
   "id": "c86e59a4",
   "metadata": {},
   "outputs": [
    {
     "data": {
      "text/plain": [
       "120"
      ]
     },
     "execution_count": 2,
     "metadata": {},
     "output_type": "execute_result"
    }
   ],
   "source": [
    "def fact(n):\n",
    "    fact = 1\n",
    "    for i in range(1, n+1):\n",
    "        fact *= i\n",
    "    return fact\n",
    "\n",
    "fact(5)"
   ]
  },
  {
   "cell_type": "markdown",
   "id": "b2990b25",
   "metadata": {},
   "source": [
    "## 2.\tWrite a Python Program to Display the multiplication Table?"
   ]
  },
  {
   "cell_type": "code",
   "execution_count": 3,
   "id": "3ecef6ad",
   "metadata": {},
   "outputs": [
    {
     "name": "stdout",
     "output_type": "stream",
     "text": [
      "5X1=5\n",
      "5X2=10\n",
      "5X3=15\n",
      "5X4=20\n",
      "5X5=25\n",
      "5X6=30\n",
      "5X7=35\n",
      "5X8=40\n",
      "5X9=45\n",
      "5X10=50\n"
     ]
    }
   ],
   "source": [
    "def table1(n):\n",
    "    for i in range(1,11):\n",
    "        print(f\"{n}X{i}={n*i}\")\n",
    "\n",
    "table1(5)"
   ]
  },
  {
   "cell_type": "markdown",
   "id": "41f2b4e9",
   "metadata": {},
   "source": [
    "## 3.\tWrite a Python Program to Print the Fibonacci sequence?"
   ]
  },
  {
   "cell_type": "code",
   "execution_count": 8,
   "id": "048eb6c9",
   "metadata": {},
   "outputs": [
    {
     "name": "stdout",
     "output_type": "stream",
     "text": [
      "0 1 1 2 3 5 8 13 21 34 "
     ]
    }
   ],
   "source": [
    "def fibbo(n):\n",
    "    \"\"\"Function to print first n fibonacci series\"\"\"\n",
    "    num1 = 0\n",
    "    num2 = 1\n",
    "    sum1 = 0\n",
    "    print(num1, end = ' ')\n",
    "    print(num2, end = ' ')\n",
    "    for i in range(n-2):\n",
    "        sum1 = num1 + num2\n",
    "        print(sum1, end = ' ')\n",
    "        num1 = num2\n",
    "        num2 = sum1\n",
    "\n",
    "\n",
    "fibbo(10)"
   ]
  },
  {
   "cell_type": "markdown",
   "id": "71d461d3",
   "metadata": {},
   "source": [
    "## 4.\tWrite a Python Program to Check Armstrong Number?"
   ]
  },
  {
   "cell_type": "code",
   "execution_count": 19,
   "id": "4981ac35",
   "metadata": {},
   "outputs": [
    {
     "data": {
      "text/plain": [
       "True"
      ]
     },
     "execution_count": 19,
     "metadata": {},
     "output_type": "execute_result"
    }
   ],
   "source": [
    "def arm1(num1):\n",
    "    str1 = str(num1)\n",
    "    x = len(str1)\n",
    "    sum1 = 0\n",
    "    for i in str1:\n",
    "        sum1 += (int(i))**x\n",
    "    if num1 == sum1:\n",
    "        return True\n",
    "    else:\n",
    "        return False\n",
    "\n",
    "\n",
    "arm1(153)"
   ]
  },
  {
   "cell_type": "markdown",
   "id": "38cab650",
   "metadata": {},
   "source": [
    "## 5.\tWrite a Python Program to Find Armstrong Number in an Interval?"
   ]
  },
  {
   "cell_type": "code",
   "execution_count": 24,
   "id": "b91cf8ec",
   "metadata": {},
   "outputs": [
    {
     "name": "stdout",
     "output_type": "stream",
     "text": [
      "153 370 371 407 1634 "
     ]
    }
   ],
   "source": [
    "def arm2(lower_int, upper_int):\n",
    "    for i in range(lower_int, upper_int):\n",
    "        if arm1(i):\n",
    "            print(i, end = \" \")\n",
    "\n",
    "arm2(100,5000)"
   ]
  },
  {
   "cell_type": "markdown",
   "id": "2b81a351",
   "metadata": {},
   "source": [
    "## 6.\tWrite a Python Program to Find the Sum of Natural Numbers?"
   ]
  },
  {
   "cell_type": "code",
   "execution_count": 28,
   "id": "ca55db9e",
   "metadata": {},
   "outputs": [
    {
     "data": {
      "text/plain": [
       "5050"
      ]
     },
     "execution_count": 28,
     "metadata": {},
     "output_type": "execute_result"
    }
   ],
   "source": [
    "def nat_sum(n):\n",
    "    sum1 = 0\n",
    "    for i in range(1, n+1):\n",
    "        sum1 += i\n",
    "    return sum1\n",
    "\n",
    "\n",
    "nat_sum(100)"
   ]
  }
 ],
 "metadata": {
  "kernelspec": {
   "display_name": "Python 3",
   "language": "python",
   "name": "python3"
  },
  "language_info": {
   "codemirror_mode": {
    "name": "ipython",
    "version": 3
   },
   "file_extension": ".py",
   "mimetype": "text/x-python",
   "name": "python",
   "nbconvert_exporter": "python",
   "pygments_lexer": "ipython3",
   "version": "3.8.8"
  }
 },
 "nbformat": 4,
 "nbformat_minor": 5
}
