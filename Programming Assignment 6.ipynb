{
 "cells": [
  {
   "cell_type": "markdown",
   "id": "06de65d7",
   "metadata": {},
   "source": [
    "# 1.\tWrite a Python Program to Display Fibonacci Sequence Using Recursion?"
   ]
  },
  {
   "cell_type": "code",
   "execution_count": 12,
   "id": "450e98dd",
   "metadata": {},
   "outputs": [
    {
     "name": "stdout",
     "output_type": "stream",
     "text": [
      "0 1 1 2 3 5 8 13 21 34 "
     ]
    }
   ],
   "source": [
    "def fib(num):\n",
    "    if num<= 1:\n",
    "        return num\n",
    "    else:\n",
    "        sum1 = fib(num-2) + fib(num-1)\n",
    "        return sum1\n",
    "\n",
    "\n",
    "for i in range(10):\n",
    "    print(fib(i), end=' ')"
   ]
  },
  {
   "cell_type": "markdown",
   "id": "68808590",
   "metadata": {},
   "source": [
    "# 2.\tWrite a Python Program to Find Factorial of Number Using Recursion?"
   ]
  },
  {
   "cell_type": "code",
   "execution_count": 20,
   "id": "d79c6c7f",
   "metadata": {},
   "outputs": [
    {
     "data": {
      "text/plain": [
       "720"
      ]
     },
     "execution_count": 20,
     "metadata": {},
     "output_type": "execute_result"
    }
   ],
   "source": [
    "def fact(num):\n",
    "    if num<=1:\n",
    "        return 1\n",
    "    else:\n",
    "        return num*fact(num-1)\n",
    "\n",
    "\n",
    "fact(6)"
   ]
  },
  {
   "cell_type": "markdown",
   "id": "49ace8b5",
   "metadata": {},
   "source": [
    "# 3.\tWrite a Python Program to calculate your Body Mass Index?"
   ]
  },
  {
   "cell_type": "code",
   "execution_count": 29,
   "id": "f0d0f7ff",
   "metadata": {},
   "outputs": [
    {
     "name": "stdout",
     "output_type": "stream",
     "text": [
      "Enter Weight (KG): 76\n",
      "Enter Height (CM): 164\n",
      "BMI=  28.256989886972047\n",
      "Over Weight\n"
     ]
    }
   ],
   "source": [
    "mass = float(input(\"Enter Weight (KG): \"))\n",
    "height = float(input(\"Enter Height (CM): \"))\n",
    "height = height/100\n",
    "BMI = mass/(height**2)\n",
    "print(\"BMI= \", BMI)\n",
    "if BMI<18.5:\n",
    "    print(\"Underweight\")\n",
    "elif 18.5<BMI<25:\n",
    "    print(\"Normal Weight\")\n",
    "elif 25<BMI<30:\n",
    "    print(\"Over Weight\")\n",
    "elif 30<BMI<35:\n",
    "    print(\"Moderatly Obese\")\n",
    "elif 35<BMI<40:\n",
    "    print(\"Severely Obese\")\n",
    "elif 40<BMI<45:\n",
    "    print(\"Very Severely Obese\")"
   ]
  },
  {
   "cell_type": "markdown",
   "id": "6ce1a1df",
   "metadata": {},
   "source": [
    "# 4.\tWrite a Python Program to calculate the natural logarithm of any number?"
   ]
  },
  {
   "cell_type": "code",
   "execution_count": 32,
   "id": "1feb24b5",
   "metadata": {},
   "outputs": [
    {
     "name": "stdout",
     "output_type": "stream",
     "text": [
      "Enter a number: 5\n",
      "Natural log of 5.0 is 1.6094379124341003\n"
     ]
    }
   ],
   "source": [
    "import math\n",
    "x = float(input(\"Enter a number: \"))\n",
    "\n",
    "print(f\"Natural log of {x} is\",math.log(5))"
   ]
  },
  {
   "cell_type": "markdown",
   "id": "733f4fb9",
   "metadata": {},
   "source": [
    "# 5.\tWrite a Python Program for cube sum of first n natural numbers?"
   ]
  },
  {
   "cell_type": "code",
   "execution_count": 34,
   "id": "1deb9300",
   "metadata": {},
   "outputs": [
    {
     "name": "stdout",
     "output_type": "stream",
     "text": [
      "Enter upper range: 10\n",
      "Cube sum of first 10 numbers is 3025\n"
     ]
    }
   ],
   "source": [
    "n = int(input(\"Enter upper range: \"))\n",
    "sum = 0\n",
    "for i in range(1, n+1):\n",
    "    sum += i**3\n",
    "print(f\"Cube sum of first {n} numbers is {sum}\")\n"
   ]
  },
  {
   "cell_type": "code",
   "execution_count": null,
   "id": "bc684fbf",
   "metadata": {},
   "outputs": [],
   "source": []
  }
 ],
 "metadata": {
  "kernelspec": {
   "display_name": "Python 3",
   "language": "python",
   "name": "python3"
  },
  "language_info": {
   "codemirror_mode": {
    "name": "ipython",
    "version": 3
   },
   "file_extension": ".py",
   "mimetype": "text/x-python",
   "name": "python",
   "nbconvert_exporter": "python",
   "pygments_lexer": "ipython3",
   "version": "3.8.8"
  }
 },
 "nbformat": 4,
 "nbformat_minor": 5
}
