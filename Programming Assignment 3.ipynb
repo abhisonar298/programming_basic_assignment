{
 "cells": [
  {
   "cell_type": "code",
   "execution_count": 14,
   "id": "332b2e5c",
   "metadata": {},
   "outputs": [
    {
     "name": "stdout",
     "output_type": "stream",
     "text": [
      "Enter a number: -3\n",
      "-3 is a negative number\n"
     ]
    }
   ],
   "source": [
    "# Python Program to Check if a Number is Positive, Negative or Zero\n",
    "n = int(input(\"Enter a number: \"))\n",
    "if n == 0:\n",
    "    print(\"This is a Zero!\")\n",
    "elif n < 0:\n",
    "    print(f\"{n} is a negative number\")\n",
    "else:\n",
    "    print(f\"{n} is a positive number\")\n",
    "    "
   ]
  },
  {
   "cell_type": "code",
   "execution_count": 13,
   "id": "a834e8be",
   "metadata": {},
   "outputs": [
    {
     "name": "stdout",
     "output_type": "stream",
     "text": [
      "Enter a number: 5\n",
      "5 is an Odd Number\n"
     ]
    }
   ],
   "source": [
    "# Python Program to Check if a Number is Odd or Even\n",
    "n = int(input(\"Enter a number: \"))\n",
    "m = n%2\n",
    "if m == 0:\n",
    "    print(f\"{n} is an Even Number\")\n",
    "else:\n",
    "    print(f\"{n} is an Odd Number\")"
   ]
  },
  {
   "cell_type": "code",
   "execution_count": 18,
   "id": "5f9fd499",
   "metadata": {},
   "outputs": [
    {
     "name": "stdout",
     "output_type": "stream",
     "text": [
      "Enter the year: 2020\n",
      "2020 is a Leap year\n"
     ]
    }
   ],
   "source": [
    "# Python Program to Check Leap Year\n",
    "y = int(input(\"Enter the year: \"))\n",
    "x = y%4\n",
    "if x == 0:\n",
    "    print(f\"{y} is a Leap year\")\n",
    "else:\n",
    "    print(f\"{y} is not a Leap year\")"
   ]
  },
  {
   "cell_type": "code",
   "execution_count": 29,
   "id": "03aa48d0",
   "metadata": {},
   "outputs": [
    {
     "name": "stdout",
     "output_type": "stream",
     "text": [
      "Enter the number: 123467\n",
      "123467 is not a prime number because 123467=311*397\n"
     ]
    }
   ],
   "source": [
    "# Python Program to Check Prime Number\n",
    "n = int(input(\"Enter the number: \"))\n",
    "\n",
    "if n > 1:\n",
    "    for i in range(2, n):\n",
    "        if n%i == 0:\n",
    "            print(f'{n} is not a prime number because {n}={i}*{n//i}')\n",
    "            break\n",
    "    else:\n",
    "        print(f'{n} is a prime number')\n",
    "else:\n",
    "    print(f'{n} is not a prime number')"
   ]
  },
  {
   "cell_type": "code",
   "execution_count": 35,
   "id": "957eb58c",
   "metadata": {},
   "outputs": [
    {
     "name": "stdout",
     "output_type": "stream",
     "text": [
      "2\n",
      "3\n",
      "5\n",
      "7\n",
      "11\n",
      "13\n",
      "17\n",
      "19\n",
      "23\n",
      "29\n",
      "31\n",
      "37\n",
      "41\n",
      "43\n",
      "47\n",
      "53\n",
      "59\n",
      "61\n",
      "67\n",
      "71\n",
      "73\n",
      "79\n",
      "83\n",
      "89\n",
      "97\n"
     ]
    }
   ],
   "source": [
    "# Python Program to Print all Prime Numbers in an Interval of 1-10000\n",
    "lowerLimit = 1\n",
    "upperLimit = 10000\n",
    "\n",
    "for number in range(lowerLimit, upperLimit + 1):\n",
    "    if number > 1:\n",
    "        for i in range(2, number):\n",
    "            if number % i == 0:\n",
    "                break\n",
    "        else:\n",
    "            print(number)"
   ]
  }
 ],
 "metadata": {
  "kernelspec": {
   "display_name": "Python 3",
   "language": "python",
   "name": "python3"
  },
  "language_info": {
   "codemirror_mode": {
    "name": "ipython",
    "version": 3
   },
   "file_extension": ".py",
   "mimetype": "text/x-python",
   "name": "python",
   "nbconvert_exporter": "python",
   "pygments_lexer": "ipython3",
   "version": "3.8.8"
  }
 },
 "nbformat": 4,
 "nbformat_minor": 5
}
