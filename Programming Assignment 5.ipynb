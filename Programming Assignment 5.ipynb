{
 "cells": [
  {
   "cell_type": "markdown",
   "id": "5f59f85c",
   "metadata": {},
   "source": [
    "# 1.\tWrite a Python Program to Find LCM?"
   ]
  },
  {
   "cell_type": "code",
   "execution_count": 13,
   "id": "9bbb22d7",
   "metadata": {},
   "outputs": [
    {
     "name": "stdout",
     "output_type": "stream",
     "text": [
      "216\n"
     ]
    }
   ],
   "source": [
    "def lcm(a, b):\n",
    "    if a < b:\n",
    "        x, y = b, a\n",
    "    else:\n",
    "        x, y = a, b\n",
    "    for i in range(2, y+1):\n",
    "        if x % i == 0 and y % i == 0:\n",
    "            divisor = i\n",
    "    return (x*y)//divisor\n",
    "\n",
    "\n",
    "print(lcm(54, 24))\n"
   ]
  },
  {
   "cell_type": "markdown",
   "id": "c28e7f3b",
   "metadata": {},
   "source": [
    "# 2.\tWrite a Python Program to Find HCF?"
   ]
  },
  {
   "cell_type": "code",
   "execution_count": 15,
   "id": "9392dcd1",
   "metadata": {},
   "outputs": [
    {
     "name": "stdout",
     "output_type": "stream",
     "text": [
      "6\n"
     ]
    }
   ],
   "source": [
    "def hcf(a, b):\n",
    "    if a < b:\n",
    "        x, y = b, a\n",
    "    else:\n",
    "        x, y = a, b\n",
    "    for i in range(2, y+1):\n",
    "        if x % i == 0 and y % i == 0:\n",
    "            divisor = i\n",
    "    return divisor\n",
    "\n",
    "print(hcf(54,24))"
   ]
  },
  {
   "cell_type": "markdown",
   "id": "11fc96fb",
   "metadata": {},
   "source": [
    "# 3.\tWrite a Python Program to Convert Decimal to Binary, Octal and Hexadecimal?"
   ]
  },
  {
   "cell_type": "code",
   "execution_count": 18,
   "id": "51e37c12",
   "metadata": {},
   "outputs": [
    {
     "name": "stdout",
     "output_type": "stream",
     "text": [
      "0b101 Binary\n",
      "0o5 Octal\n",
      "0x5 Hexadecimal\n"
     ]
    }
   ],
   "source": [
    "def convert_num(n):\n",
    "    print(bin(n), \"Binary\")\n",
    "    print(oct(n), \"Octal\")\n",
    "    print(hex(n), \"Hexadecimal\")\n",
    "\n",
    "\n",
    "convert_num(5)"
   ]
  },
  {
   "cell_type": "markdown",
   "id": "d20d8994",
   "metadata": {},
   "source": [
    "# 4.\tWrite a Python Program To Find ASCII value of a character?"
   ]
  },
  {
   "cell_type": "code",
   "execution_count": 37,
   "id": "7deca960",
   "metadata": {},
   "outputs": [
    {
     "name": "stdout",
     "output_type": "stream",
     "text": [
      "The ASCII value of '6' is 54\n"
     ]
    }
   ],
   "source": [
    "def ascii(a):\n",
    "    a = str(a)\n",
    "    print(\"The ASCII value of '\" + a + \"' is\", ord(a))\n",
    "\n",
    "\n",
    "ascii(\"6\")"
   ]
  },
  {
   "cell_type": "markdown",
   "id": "70917ae4",
   "metadata": {},
   "source": [
    "# 5.\tWrite a Python Program to Make a Simple Calculator with 4 basic mathematical operations?"
   ]
  },
  {
   "cell_type": "code",
   "execution_count": 41,
   "id": "436ee883",
   "metadata": {},
   "outputs": [
    {
     "name": "stdout",
     "output_type": "stream",
     "text": [
      "Enter first number: 60\n",
      "Enter the operation: /\n",
      "Enter second number: 12\n",
      "Answer of 60 / 12 is 5.0\n"
     ]
    }
   ],
   "source": [
    "a = int(input(\"Enter first number: \"))\n",
    "b = input(\"Enter the operation: \")\n",
    "c = int(input(\"Enter second number: \"))\n",
    "if b == \"+\":\n",
    "    print(f\"Answer of {a} {b} {c} is\",a+c)\n",
    "elif b == \"-\":\n",
    "    print(f\"Answer of {a} {b} {c} is\",a-c)\n",
    "elif b == \"*\":\n",
    "    print(f\"Answer of {a} {b} {c} is\",a*c)\n",
    "elif b == \"/\":\n",
    "    print(f\"Answer of {a} {b} {c} is\",a/c)"
   ]
  },
  {
   "cell_type": "code",
   "execution_count": null,
   "id": "8b1bfce7",
   "metadata": {},
   "outputs": [],
   "source": []
  }
 ],
 "metadata": {
  "kernelspec": {
   "display_name": "Python 3",
   "language": "python",
   "name": "python3"
  },
  "language_info": {
   "codemirror_mode": {
    "name": "ipython",
    "version": 3
   },
   "file_extension": ".py",
   "mimetype": "text/x-python",
   "name": "python",
   "nbconvert_exporter": "python",
   "pygments_lexer": "ipython3",
   "version": "3.8.8"
  }
 },
 "nbformat": 4,
 "nbformat_minor": 5
}
