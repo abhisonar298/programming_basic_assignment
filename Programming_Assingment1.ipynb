{
 "cells": [
  {
   "cell_type": "code",
   "execution_count": 1,
   "id": "20cb23ae",
   "metadata": {},
   "outputs": [
    {
     "name": "stdout",
     "output_type": "stream",
     "text": [
      "\"Hello Python\"\n"
     ]
    }
   ],
   "source": [
    "# hello python\n",
    "print('\"Hello Python\"')"
   ]
  },
  {
   "cell_type": "code",
   "execution_count": 6,
   "id": "653a37af",
   "metadata": {},
   "outputs": [
    {
     "name": "stdout",
     "output_type": "stream",
     "text": [
      "Addition of 124560 and 365235 is 489795\n",
      "Division of 854568 and 234 is 3652\n"
     ]
    }
   ],
   "source": [
    "# Arithmetic Operation\n",
    "a = 124560\n",
    "b = 365235\n",
    "c = 854568\n",
    "d = 234\n",
    "\n",
    "print(f'Addition of {a} and {b} is {a+b}')\n",
    "print(f'Division of {c} and {d} is {c//d}')\n"
   ]
  },
  {
   "cell_type": "code",
   "execution_count": 4,
   "id": "0d4c18f8",
   "metadata": {},
   "outputs": [
    {
     "name": "stdout",
     "output_type": "stream",
     "text": [
      "Enter Height of the triangle(mm): 20\n",
      "Enter Base of the Triangle(mm): 20\n",
      "Area of the triangle is 200.0 mm2\n"
     ]
    }
   ],
   "source": [
    "# Area of the triangle\n",
    "h = int(input('Enter Height of the triangle(mm): '))\n",
    "b = int(input('Enter Base of the Triangle(mm): '))\n",
    "\n",
    "print(f'Area of the triangle is {(h*b)/2} mm2')\n"
   ]
  },
  {
   "cell_type": "code",
   "execution_count": 7,
   "id": "0fb8525c",
   "metadata": {},
   "outputs": [
    {
     "name": "stdout",
     "output_type": "stream",
     "text": [
      "20 10\n"
     ]
    }
   ],
   "source": [
    "# Swap variables\n",
    "a = 10\n",
    "b = 20\n",
    "\n",
    "a, b = b, a\n",
    "\n",
    "print(a, b)"
   ]
  },
  {
   "cell_type": "code",
   "execution_count": 24,
   "id": "a3e9a971",
   "metadata": {},
   "outputs": [
    {
     "name": "stdout",
     "output_type": "stream",
     "text": [
      "83\n"
     ]
    }
   ],
   "source": [
    "# Generate Random Number\n",
    "import random\n",
    "\n",
    "n = random.randint(0, 100)\n",
    "\n",
    "print(n)"
   ]
  },
  {
   "cell_type": "code",
   "execution_count": null,
   "id": "0a0e7e56",
   "metadata": {},
   "outputs": [],
   "source": []
  }
 ],
 "metadata": {
  "kernelspec": {
   "display_name": "Python 3",
   "language": "python",
   "name": "python3"
  },
  "language_info": {
   "codemirror_mode": {
    "name": "ipython",
    "version": 3
   },
   "file_extension": ".py",
   "mimetype": "text/x-python",
   "name": "python",
   "nbconvert_exporter": "python",
   "pygments_lexer": "ipython3",
   "version": "3.8.8"
  }
 },
 "nbformat": 4,
 "nbformat_minor": 5
}
