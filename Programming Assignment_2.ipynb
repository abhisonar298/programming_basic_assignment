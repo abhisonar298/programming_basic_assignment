{
 "cells": [
  {
   "cell_type": "code",
   "execution_count": 23,
   "id": "8abff534",
   "metadata": {},
   "outputs": [
    {
     "name": "stdout",
     "output_type": "stream",
     "text": [
      "Enter distance(KM):20\n",
      "20.0 kilometers equals to 12.42742 miles\n"
     ]
    }
   ],
   "source": [
    "# converting Kilometers to Miles\n",
    "\n",
    "km = float(input(\"Enter distance(KM):\"))\n",
    "m = km * 0.621371   #1km = 0.621371 miles\n",
    "print(f\"{km} kilometers equals to {m} miles\")"
   ]
  },
  {
   "cell_type": "code",
   "execution_count": 26,
   "id": "07832d0c",
   "metadata": {},
   "outputs": [
    {
     "name": "stdout",
     "output_type": "stream",
     "text": [
      "Enter temperature(C): 37\n",
      "37.0 degree celcius equals to 98.60000000000001 degree fahrenheit\n"
     ]
    }
   ],
   "source": [
    "# converting degree celcius to degree fahrenheit\n",
    "\n",
    "c = float(input(\"Enter temperature(C): \"))\n",
    "f = ((c * 1.8) + 32)\n",
    "print(f\"{c} degree celcius equals to {f} degree fahrenheit\")"
   ]
  },
  {
   "cell_type": "code",
   "execution_count": 28,
   "id": "bd340233",
   "metadata": {},
   "outputs": [
    {
     "name": "stdout",
     "output_type": "stream",
     "text": [
      "Enter year: 1992\n",
      "Enter month: 08\n",
      "    August 1992\n",
      "Mo Tu We Th Fr Sa Su\n",
      "                1  2\n",
      " 3  4  5  6  7  8  9\n",
      "10 11 12 13 14 15 16\n",
      "17 18 19 20 21 22 23\n",
      "24 25 26 27 28 29 30\n",
      "31\n",
      "\n"
     ]
    }
   ],
   "source": [
    "# Display calendar of given month and year\n",
    "\n",
    "import calendar\n",
    "\n",
    "y = int(input(\"Enter year: \"))\n",
    "m = int(input(\"Enter month: \"))\n",
    "\n",
    "\n",
    "print(calendar.month(y, m))\n"
   ]
  },
  {
   "cell_type": "code",
   "execution_count": 29,
   "id": "b88f70f2",
   "metadata": {},
   "outputs": [
    {
     "name": "stdout",
     "output_type": "stream",
     "text": [
      "a = 2\n",
      "b = 5\n",
      "c = 10\n",
      "The solution is (-1.25-1.8540496217739157j) and (-1.25+1.8540496217739157j)\n"
     ]
    }
   ],
   "source": [
    "# Solve the quadratic equation ax**2 + bx + c = 0\n",
    "\n",
    "# import complex math module\n",
    "import cmath\n",
    "\n",
    "a = int(input('a = '))\n",
    "b = int(input('b = '))\n",
    "c = int(input('c = '))\n",
    "\n",
    "# calculate the discriminant\n",
    "d = (b**2) - (4*a*c)\n",
    "\n",
    "# find two solutions\n",
    "sol1 = (-b-cmath.sqrt(d))/(2*a)\n",
    "sol2 = (-b+cmath.sqrt(d))/(2*a)\n",
    "\n",
    "print(f'The solution is {sol1} and {sol2}')\n"
   ]
  },
  {
   "cell_type": "code",
   "execution_count": 30,
   "id": "06dfb65f",
   "metadata": {},
   "outputs": [
    {
     "name": "stdout",
     "output_type": "stream",
     "text": [
      "20 10\n"
     ]
    }
   ],
   "source": [
    "# Swap variables\n",
    "a = 10\n",
    "b = 20\n",
    "\n",
    "a, b = b, a\n",
    "\n",
    "print(a, b)"
   ]
  },
  {
   "cell_type": "code",
   "execution_count": null,
   "id": "de9ad39e",
   "metadata": {},
   "outputs": [],
   "source": []
  }
 ],
 "metadata": {
  "kernelspec": {
   "display_name": "Python 3",
   "language": "python",
   "name": "python3"
  },
  "language_info": {
   "codemirror_mode": {
    "name": "ipython",
    "version": 3
   },
   "file_extension": ".py",
   "mimetype": "text/x-python",
   "name": "python",
   "nbconvert_exporter": "python",
   "pygments_lexer": "ipython3",
   "version": "3.8.8"
  }
 },
 "nbformat": 4,
 "nbformat_minor": 5
}
